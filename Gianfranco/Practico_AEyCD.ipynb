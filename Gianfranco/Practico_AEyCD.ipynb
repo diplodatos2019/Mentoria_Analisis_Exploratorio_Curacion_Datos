{
 "cells": [
  {
   "cell_type": "markdown",
   "metadata": {},
   "source": [
    "# Practico Mentoria - Analisis Exploratorio y Curación de Datos\n",
    "\n",
    "---"
   ]
  },
  {
   "cell_type": "markdown",
   "metadata": {},
   "source": [
    "### Importaciones"
   ]
  },
  {
   "cell_type": "code",
   "execution_count": 93,
   "metadata": {},
   "outputs": [],
   "source": [
    "%matplotlib inline\n",
    "\n",
    "import numpy as np\n",
    "import pandas as pd\n",
    "import matplotlib.pyplot as plt\n",
    "import seaborn as sns\n",
    "import scipy as sp\n",
    "\n",
    "from sklearn import preprocessing\n",
    "\n",
    "import warnings\n",
    "warnings.filterwarnings('ignore')"
   ]
  },
  {
   "cell_type": "code",
   "execution_count": 94,
   "metadata": {},
   "outputs": [],
   "source": [
    "# Set seed for reproducibility\n",
    "np.random.seed(0)"
   ]
  },
  {
   "cell_type": "code",
   "execution_count": 95,
   "metadata": {},
   "outputs": [],
   "source": [
    "player_df = pd.read_csv('../Datasets/football_player.csv')\n",
    "team_df = pd.read_csv('../Datasets/football_team.csv')\n",
    "match_df = pd.read_csv('../Datasets/football_match.csv', parse_dates=['date'])"
   ]
  },
  {
   "cell_type": "code",
   "execution_count": 96,
   "metadata": {},
   "outputs": [
    {
     "name": "stdout",
     "output_type": "stream",
     "text": [
      "Shape 'player_df' = (11060, 40)\n",
      "Shape 'team_df'   = (288, 22)\n",
      "Shape 'match_df'  = (25979, 12)\n"
     ]
    }
   ],
   "source": [
    "print(\"Shape 'player_df' = {}\".format(player_df.shape))\n",
    "print(\"Shape 'team_df'   = {}\".format(team_df.shape))\n",
    "print(\"Shape 'match_df'  = {}\".format(match_df.shape))"
   ]
  },
  {
   "cell_type": "markdown",
   "metadata": {},
   "source": [
    "---"
   ]
  },
  {
   "cell_type": "markdown",
   "metadata": {},
   "source": [
    "# 1. Importacion de los datos"
   ]
  },
  {
   "cell_type": "markdown",
   "metadata": {},
   "source": [
    "Calculemos el rango de fechas de los partidos"
   ]
  },
  {
   "cell_type": "code",
   "execution_count": 97,
   "metadata": {},
   "outputs": [
    {
     "data": {
      "text/plain": [
       "Timedelta('2868 days 00:00:00')"
      ]
     },
     "execution_count": 97,
     "metadata": {},
     "output_type": "execute_result"
    }
   ],
   "source": [
    "match_df['date'].max() - match_df['date'].min()"
   ]
  },
  {
   "cell_type": "markdown",
   "metadata": {},
   "source": [
    "Indiquemos que la columna `date` es una fechas como indica la [documentación](https://pandas.pydata.org/pandas-docs/stable/user_guide/io.html#datetime-handling)"
   ]
  },
  {
   "cell_type": "markdown",
   "metadata": {},
   "source": [
    "# 2. Etiquetas de variables/columnas: no usar caracteres especiales"
   ]
  },
  {
   "cell_type": "markdown",
   "metadata": {},
   "source": [
    "Chequar que no haya caracteres fuera de `a-Z`, `0-9` y `_` en los nombres de columnas de los Dataframes:\n",
    "* `player_df`\n",
    "* `team_df`\n",
    "* `match_df`"
   ]
  },
  {
   "cell_type": "code",
   "execution_count": 98,
   "metadata": {},
   "outputs": [
    {
     "name": "stdout",
     "output_type": "stream",
     "text": [
      "--------------------------------------------------\n",
      "player name \t-->\tUnsupported characters:  [' ']\n",
      "birthday\n",
      "height_m\n",
      "weight_kg\n",
      "overall_rating\n",
      "potential\n",
      "preferred foot \t-->\tUnsupported characters:  [' ']\n",
      "crossing\n",
      "finishing\n",
      "heading accuracy \t-->\tUnsupported characters:  [' ']\n",
      "short passing \t-->\tUnsupported characters:  [' ']\n",
      "volleys\n",
      "dribbling\n",
      "curve\n",
      "free kick accuracy \t-->\tUnsupported characters:  [' ', ' ']\n",
      "long passing \t-->\tUnsupported characters:  [' ']\n",
      "ball control \t-->\tUnsupported characters:  [' ']\n",
      "acceleration\n",
      "sprint speed \t-->\tUnsupported characters:  [' ']\n",
      "agility\n",
      "reactions\n",
      "balance\n",
      "shot power \t-->\tUnsupported characters:  [' ']\n",
      "jumping\n",
      "stamina\n",
      "strength\n",
      "long shots \t-->\tUnsupported characters:  [' ']\n",
      "aggression\n",
      "interceptions\n",
      "positioning\n",
      "vision\n",
      "penalties\n",
      "marking\n",
      "standing tackle \t-->\tUnsupported characters:  [' ']\n",
      "sliding tackle \t-->\tUnsupported characters:  [' ']\n",
      "gk_diving\n",
      "gk_handling\n",
      "gk_kicking\n",
      "gk_positioning\n",
      "gk_reflexes\n",
      "--------------------------------------------------\n",
      "team long name \t-->\tUnsupported characters:  [' ', ' ']\n",
      "team short name \t-->\tUnsupported characters:  [' ', ' ']\n",
      "buildUpPlaySpeed\n",
      "buildUpPlaySpeedClass\n",
      "buildUpPlayDribblingClass\n",
      "buildUpPlayPassing\n",
      "buildUpPlayPassingClass\n",
      "buildUpPlayPositioningClass\n",
      "chanceCreationPassing\n",
      "chanceCreationPassingClass\n",
      "chanceCreationCrossing\n",
      "chanceCreationCrossingClass\n",
      "chanceCreationShooting\n",
      "chanceCreationShootingClass\n",
      "chanceCreationPositioningClass\n",
      "defencePressure\n",
      "defencePressureClass\n",
      "defenceAggression\n",
      "defenceAggressionClass\n",
      "defenceTeamWidth\n",
      "defenceTeamWidthClass\n",
      "defenceDefenderLineClass\n",
      "--------------------------------------------------\n",
      "country name \t-->\tUnsupported characters:  [' ']\n",
      "league name \t-->\tUnsupported characters:  [' ']\n",
      "season\n",
      "stage\n",
      "date\n",
      "home team long name \t-->\tUnsupported characters:  [' ', ' ', ' ']\n",
      "home short long name \t-->\tUnsupported characters:  [' ', ' ', ' ']\n",
      "away team long name \t-->\tUnsupported characters:  [' ', ' ', ' ']\n",
      "away short long name \t-->\tUnsupported characters:  [' ', ' ', ' ']\n",
      "home team goal \t-->\tUnsupported characters:  [' ', ' ']\n",
      "away team goal \t-->\tUnsupported characters:  [' ', ' ']\n",
      "total goal \t-->\tUnsupported characters:  [' ']\n"
     ]
    }
   ],
   "source": [
    "import re\n",
    "\n",
    "dataset_list = [player_df, team_df, match_df]\n",
    "#for i in range(0, len(dataset_list)):\n",
    "for dataset in dataset_list:\n",
    "    print(\"-\"*50)\n",
    "    #print(\"Index: \", i)\n",
    "    #dataset = dataset_list[i]\n",
    "    for col_name in list(dataset):\n",
    "        match = re.findall('([^a-zA-Z0-9_]+)', col_name)\n",
    "        if len(match) > 0:\n",
    "            print(col_name, \"\\t-->\\tUnsupported characters: \", match)\n",
    "        else:\n",
    "            print(col_name)"
   ]
  },
  {
   "cell_type": "markdown",
   "metadata": {},
   "source": [
    "# 3. Agregar nuevas caracteristicas"
   ]
  },
  {
   "cell_type": "markdown",
   "metadata": {},
   "source": [
    "Agregar al Dataframe `player_df` una nueva columna que sea `imc` correspondiente al **Indice de Masa Corporal**\n",
    "\n",
    "Link:\n",
    "* https://www.texasheart.org/heart-health/heart-information-center/topics/calculadora-del-indice-de-masa-corporal-imc/"
   ]
  },
  {
   "cell_type": "code",
   "execution_count": 99,
   "metadata": {},
   "outputs": [
    {
     "data": {
      "text/html": [
       "<div>\n",
       "<style scoped>\n",
       "    .dataframe tbody tr th:only-of-type {\n",
       "        vertical-align: middle;\n",
       "    }\n",
       "\n",
       "    .dataframe tbody tr th {\n",
       "        vertical-align: top;\n",
       "    }\n",
       "\n",
       "    .dataframe thead th {\n",
       "        text-align: right;\n",
       "    }\n",
       "</style>\n",
       "<table border=\"1\" class=\"dataframe\">\n",
       "  <thead>\n",
       "    <tr style=\"text-align: right;\">\n",
       "      <th></th>\n",
       "      <th>player name</th>\n",
       "      <th>birthday</th>\n",
       "      <th>height_m</th>\n",
       "      <th>weight_kg</th>\n",
       "      <th>overall_rating</th>\n",
       "      <th>potential</th>\n",
       "      <th>preferred foot</th>\n",
       "      <th>crossing</th>\n",
       "      <th>finishing</th>\n",
       "      <th>heading accuracy</th>\n",
       "      <th>...</th>\n",
       "      <th>penalties</th>\n",
       "      <th>marking</th>\n",
       "      <th>standing tackle</th>\n",
       "      <th>sliding tackle</th>\n",
       "      <th>gk_diving</th>\n",
       "      <th>gk_handling</th>\n",
       "      <th>gk_kicking</th>\n",
       "      <th>gk_positioning</th>\n",
       "      <th>gk_reflexes</th>\n",
       "      <th>imc</th>\n",
       "    </tr>\n",
       "  </thead>\n",
       "  <tbody>\n",
       "    <tr>\n",
       "      <th>0</th>\n",
       "      <td>Aaron Appindangoye</td>\n",
       "      <td>1992-02-29</td>\n",
       "      <td>1.83</td>\n",
       "      <td>84.82</td>\n",
       "      <td>63.60</td>\n",
       "      <td>67.60</td>\n",
       "      <td>right</td>\n",
       "      <td>48.60</td>\n",
       "      <td>43.60</td>\n",
       "      <td>70.60</td>\n",
       "      <td>...</td>\n",
       "      <td>47.60</td>\n",
       "      <td>63.80</td>\n",
       "      <td>66.00</td>\n",
       "      <td>67.80</td>\n",
       "      <td>5.60</td>\n",
       "      <td>10.60</td>\n",
       "      <td>9.60</td>\n",
       "      <td>7.60</td>\n",
       "      <td>7.60</td>\n",
       "      <td>25.33</td>\n",
       "    </tr>\n",
       "    <tr>\n",
       "      <th>1</th>\n",
       "      <td>Aaron Cresswell</td>\n",
       "      <td>1989-12-15</td>\n",
       "      <td>1.70</td>\n",
       "      <td>66.22</td>\n",
       "      <td>66.97</td>\n",
       "      <td>74.48</td>\n",
       "      <td>left</td>\n",
       "      <td>70.79</td>\n",
       "      <td>49.45</td>\n",
       "      <td>52.94</td>\n",
       "      <td>...</td>\n",
       "      <td>53.12</td>\n",
       "      <td>69.39</td>\n",
       "      <td>68.79</td>\n",
       "      <td>71.52</td>\n",
       "      <td>12.18</td>\n",
       "      <td>8.67</td>\n",
       "      <td>14.24</td>\n",
       "      <td>10.36</td>\n",
       "      <td>12.91</td>\n",
       "      <td>22.91</td>\n",
       "    </tr>\n",
       "    <tr>\n",
       "      <th>2</th>\n",
       "      <td>Aaron Doran</td>\n",
       "      <td>1991-05-13</td>\n",
       "      <td>1.70</td>\n",
       "      <td>73.94</td>\n",
       "      <td>67.00</td>\n",
       "      <td>74.19</td>\n",
       "      <td>right</td>\n",
       "      <td>68.12</td>\n",
       "      <td>57.92</td>\n",
       "      <td>58.69</td>\n",
       "      <td>...</td>\n",
       "      <td>60.54</td>\n",
       "      <td>22.04</td>\n",
       "      <td>21.12</td>\n",
       "      <td>21.35</td>\n",
       "      <td>14.04</td>\n",
       "      <td>11.81</td>\n",
       "      <td>17.73</td>\n",
       "      <td>10.12</td>\n",
       "      <td>13.50</td>\n",
       "      <td>25.58</td>\n",
       "    </tr>\n",
       "    <tr>\n",
       "      <th>3</th>\n",
       "      <td>Aaron Galindo</td>\n",
       "      <td>1982-05-08</td>\n",
       "      <td>1.83</td>\n",
       "      <td>89.81</td>\n",
       "      <td>69.09</td>\n",
       "      <td>70.78</td>\n",
       "      <td>right</td>\n",
       "      <td>57.22</td>\n",
       "      <td>26.26</td>\n",
       "      <td>69.26</td>\n",
       "      <td>...</td>\n",
       "      <td>41.74</td>\n",
       "      <td>70.61</td>\n",
       "      <td>70.65</td>\n",
       "      <td>68.04</td>\n",
       "      <td>14.17</td>\n",
       "      <td>11.17</td>\n",
       "      <td>22.87</td>\n",
       "      <td>11.17</td>\n",
       "      <td>10.17</td>\n",
       "      <td>26.82</td>\n",
       "    </tr>\n",
       "    <tr>\n",
       "      <th>4</th>\n",
       "      <td>Aaron Hughes</td>\n",
       "      <td>1979-11-08</td>\n",
       "      <td>1.83</td>\n",
       "      <td>69.85</td>\n",
       "      <td>73.24</td>\n",
       "      <td>74.68</td>\n",
       "      <td>right</td>\n",
       "      <td>45.08</td>\n",
       "      <td>38.84</td>\n",
       "      <td>73.04</td>\n",
       "      <td>...</td>\n",
       "      <td>52.96</td>\n",
       "      <td>77.60</td>\n",
       "      <td>76.04</td>\n",
       "      <td>74.60</td>\n",
       "      <td>8.28</td>\n",
       "      <td>8.32</td>\n",
       "      <td>24.92</td>\n",
       "      <td>12.84</td>\n",
       "      <td>11.92</td>\n",
       "      <td>20.86</td>\n",
       "    </tr>\n",
       "  </tbody>\n",
       "</table>\n",
       "<p>5 rows × 41 columns</p>\n",
       "</div>"
      ],
      "text/plain": [
       "          player name    birthday  height_m  weight_kg  overall_rating  \\\n",
       "0  Aaron Appindangoye  1992-02-29      1.83      84.82           63.60   \n",
       "1     Aaron Cresswell  1989-12-15      1.70      66.22           66.97   \n",
       "2         Aaron Doran  1991-05-13      1.70      73.94           67.00   \n",
       "3       Aaron Galindo  1982-05-08      1.83      89.81           69.09   \n",
       "4        Aaron Hughes  1979-11-08      1.83      69.85           73.24   \n",
       "\n",
       "   potential preferred foot  crossing  finishing  heading accuracy  ...  \\\n",
       "0      67.60          right     48.60      43.60             70.60  ...   \n",
       "1      74.48           left     70.79      49.45             52.94  ...   \n",
       "2      74.19          right     68.12      57.92             58.69  ...   \n",
       "3      70.78          right     57.22      26.26             69.26  ...   \n",
       "4      74.68          right     45.08      38.84             73.04  ...   \n",
       "\n",
       "   penalties  marking  standing tackle  sliding tackle  gk_diving  \\\n",
       "0      47.60    63.80            66.00           67.80       5.60   \n",
       "1      53.12    69.39            68.79           71.52      12.18   \n",
       "2      60.54    22.04            21.12           21.35      14.04   \n",
       "3      41.74    70.61            70.65           68.04      14.17   \n",
       "4      52.96    77.60            76.04           74.60       8.28   \n",
       "\n",
       "   gk_handling  gk_kicking  gk_positioning  gk_reflexes    imc  \n",
       "0        10.60        9.60            7.60         7.60  25.33  \n",
       "1         8.67       14.24           10.36        12.91  22.91  \n",
       "2        11.81       17.73           10.12        13.50  25.58  \n",
       "3        11.17       22.87           11.17        10.17  26.82  \n",
       "4         8.32       24.92           12.84        11.92  20.86  \n",
       "\n",
       "[5 rows x 41 columns]"
      ]
     },
     "execution_count": 99,
     "metadata": {},
     "output_type": "execute_result"
    }
   ],
   "source": [
    "def imc_calculator(weights, heights):\n",
    "    imc = []\n",
    "    for i in np.arange(0, len(weights)):\n",
    "        imc.append(float(\"{0:.2f}\".format(weights[i]/(heights[i]*heights[i]))), )\n",
    "\n",
    "    return imc\n",
    "\n",
    "player_df = player_df.assign(imc=pd.Series(imc_calculator(player_df.weight_kg, player_df.height_m)).values)\n",
    "player_df.head(5)"
   ]
  },
  {
   "cell_type": "markdown",
   "metadata": {},
   "source": [
    "# 4. Tratar valores faltantes"
   ]
  },
  {
   "cell_type": "markdown",
   "metadata": {},
   "source": [
    "Veamos cuantos valores nulos tenemos"
   ]
  },
  {
   "cell_type": "code",
   "execution_count": 100,
   "metadata": {},
   "outputs": [
    {
     "data": {
      "text/plain": [
       "volleys           478\n",
       "curve             478\n",
       "agility           478\n",
       "balance           478\n",
       "jumping           478\n",
       "vision            478\n",
       "sliding tackle    478\n",
       "dtype: int64"
      ]
     },
     "execution_count": 100,
     "metadata": {},
     "output_type": "execute_result"
    }
   ],
   "source": [
    "player_missing_values_count = player_df.isnull().sum()\n",
    "\n",
    "player_missing_values_count[player_missing_values_count > 0]"
   ]
  },
  {
   "cell_type": "code",
   "execution_count": 101,
   "metadata": {},
   "outputs": [
    {
     "data": {
      "text/plain": [
       "Series([], dtype: int64)"
      ]
     },
     "execution_count": 101,
     "metadata": {},
     "output_type": "execute_result"
    }
   ],
   "source": [
    "team_missing_values_count = team_df.isnull().sum()\n",
    "\n",
    "team_missing_values_count[team_missing_values_count > 0]"
   ]
  },
  {
   "cell_type": "code",
   "execution_count": 102,
   "metadata": {},
   "outputs": [
    {
     "data": {
      "text/plain": [
       "Series([], dtype: int64)"
      ]
     },
     "execution_count": 102,
     "metadata": {},
     "output_type": "execute_result"
    }
   ],
   "source": [
    "match_missing_values_count = match_df.isnull().sum()\n",
    "\n",
    "match_missing_values_count[match_missing_values_count > 0]"
   ]
  },
  {
   "cell_type": "markdown",
   "metadata": {},
   "source": [
    "Algunas tecnicas para tratar los _missing values_:\n",
    "* **Eliminar** muestras o variables que tienen datos faltantes.\n",
    "* **Imputar** los valores perdidos, es decir, sustituirlos por estimaciones por ejemplo la `media`, la `moda` ó usando `KNN`.\n",
    "\n",
    "A) Analizar si es conveniente **Eliminar** las muestras o variables con datos faltantes del Dataframe `player_df`. \n",
    "\n",
    "B) Aplicar la **Imputacion** usando la `media` o `moda` sobre las columnas con _missing values_ del Dataframe `player_df`.\n",
    "\n",
    "**Hint**:\n",
    "* Para la imputacion usando la `media`, `moda` ver el siguiente link:  \n",
    "    https://pandas.pydata.org/pandas-docs/stable/user_guide/missing_data.html"
   ]
  },
  {
   "cell_type": "markdown",
   "metadata": {},
   "source": [
    "### ¿Eliminar los _missing values_? Justificar"
   ]
  },
  {
   "cell_type": "markdown",
   "metadata": {},
   "source": [
    "Yo no eliminaria los missing values en este caso porque eso implicaria eliminar 500 filas de nuestro dataset, solo porque estan faltando 7 features de las 40 que son en total, por lo que estariamos eliminando mucha informacion útil junto con ellas."
   ]
  },
  {
   "cell_type": "markdown",
   "metadata": {},
   "source": [
    "### Imputacion usando Media y Moda"
   ]
  },
  {
   "cell_type": "code",
   "execution_count": 103,
   "metadata": {},
   "outputs": [],
   "source": [
    "# Rellenando usando moda ya que tiene mas sentido utilizar los valores mas usuales a que el promedio\n",
    "player_df.fillna(player_df.mode(), inplace=True)"
   ]
  },
  {
   "cell_type": "markdown",
   "metadata": {},
   "source": [
    "# 5. Normalizacion de columnas"
   ]
  },
  {
   "cell_type": "markdown",
   "metadata": {},
   "source": [
    "Primero que todo la notación:\n",
    "* $x = [x_1, x_2, ..., x_n]$\n",
    "* $\\mu$: Media\n",
    "* $\\sigma$: Desviacion Estandar\n",
    "\n",
    "Ahora normalizaremos algunas de las columnas del Dataframe, para ello usaremos dos tipos de normalizacion:\n",
    "\n",
    "* Min-Max:  \n",
    "$$\n",
    "z_i = \\frac{x_i - min(x)}{max(x) - min(x)}\n",
    "$$\n",
    "* Z-score\n",
    "$$\n",
    "z_i = \\frac{x_i - \\mu}{\\sigma}\n",
    "$$\n",
    "\n",
    "Normalizar la columna `crossing` usando **Min-Max**.\n",
    "\n",
    "Normalizar la columna `short_passing` usando **Z-score**.\n",
    "\n",
    "**Hints**:\n",
    "* https://scikit-learn.org/stable/modules/generated/sklearn.preprocessing.MinMaxScaler.html#sklearn.preprocessing.MinMaxScaler\n",
    "* https://docs.scipy.org/doc/scipy/reference/generated/scipy.stats.zscore.html"
   ]
  },
  {
   "cell_type": "markdown",
   "metadata": {},
   "source": [
    "### Min-Max"
   ]
  },
  {
   "cell_type": "code",
   "execution_count": 104,
   "metadata": {},
   "outputs": [
    {
     "name": "stdout",
     "output_type": "stream",
     "text": [
      "0    48.60\n",
      "1    70.79\n",
      "2    68.12\n",
      "3    57.22\n",
      "4    45.08\n",
      "5    73.89\n",
      "6    47.57\n",
      "7    78.04\n",
      "8    12.00\n",
      "9    63.89\n",
      "Name: crossing, dtype: float64\n",
      "0    0.511036\n",
      "1    0.777231\n",
      "2    0.745202\n",
      "3    0.614443\n",
      "4    0.468810\n",
      "5    0.814419\n",
      "6    0.498680\n",
      "7    0.864203\n",
      "8    0.071977\n",
      "9    0.694458\n",
      "Name: crossing, dtype: float64\n"
     ]
    }
   ],
   "source": [
    "print(player_df.crossing.head(10))\n",
    "\n",
    "scaler = preprocessing.MinMaxScaler()\n",
    "player_df[[\"crossing\"]] = scaler.fit_transform(player_df[[\"crossing\"]])\n",
    "\n",
    "print(player_df.crossing.head(10))"
   ]
  },
  {
   "cell_type": "markdown",
   "metadata": {},
   "source": [
    "### Z-score"
   ]
  },
  {
   "cell_type": "code",
   "execution_count": 105,
   "metadata": {},
   "outputs": [
    {
     "name": "stdout",
     "output_type": "stream",
     "text": [
      "0    60.60\n",
      "1    62.27\n",
      "2    65.12\n",
      "3    64.70\n",
      "4    64.76\n",
      "5    78.26\n",
      "6    63.57\n",
      "7    76.27\n",
      "8    23.00\n",
      "9    68.95\n",
      "Name: short passing, dtype: float64\n",
      "0    0.017238\n",
      "1    0.140868\n",
      "2    0.351853\n",
      "3    0.320761\n",
      "4    0.325202\n",
      "5    1.324605\n",
      "6    0.237107\n",
      "7    1.177285\n",
      "8   -2.766282\n",
      "9    0.635387\n",
      "Name: short passing, dtype: float64\n"
     ]
    }
   ],
   "source": [
    "print(player_df[\"short passing\"].head(10))\n",
    "\n",
    "scaler = preprocessing.MinMaxScaler()\n",
    "player_df[[\"short passing\"]] = sp.stats.zscore(player_df[[\"short passing\"]])\n",
    "\n",
    "print(player_df[\"short passing\"].head(10))"
   ]
  },
  {
   "cell_type": "markdown",
   "metadata": {},
   "source": [
    "# 6. Codificar variables"
   ]
  },
  {
   "cell_type": "markdown",
   "metadata": {},
   "source": [
    "> Las variables categóricas deben ser etiquetadas como variables numéricas, no como cadenas.\n",
    "\n",
    "Codificar la variable `country_name` del Dataframe `match_df`"
   ]
  },
  {
   "cell_type": "code",
   "execution_count": 106,
   "metadata": {},
   "outputs": [
    {
     "name": "stdout",
     "output_type": "stream",
     "text": [
      "{'Portugal', 'Belgium', 'Italy', 'Spain', 'France', 'England', 'Scotland', 'Switzerland', 'Germany', 'Netherlands', 'Poland'}\n",
      "{0, 1, 2, 3, 4, 5, 6, 7, 8, 9, 10}\n"
     ]
    }
   ],
   "source": [
    "print(set(match_df[\"country name\"]))\n",
    "\n",
    "le = preprocessing.LabelEncoder()\n",
    "match_df[[\"country name\"]] = le.fit_transform(match_df[[\"country name\"]])\n",
    "\n",
    "print(set(match_df[\"country name\"]))"
   ]
  },
  {
   "cell_type": "markdown",
   "metadata": {},
   "source": [
    "More about preprocessing in:\n",
    "* https://scikit-learn.org/stable/modules/classes.html#module-sklearn.preprocessing"
   ]
  }
 ],
 "metadata": {
  "kernelspec": {
   "display_name": "Python 3",
   "language": "python",
   "name": "python3"
  },
  "language_info": {
   "codemirror_mode": {
    "name": "ipython",
    "version": 3
   },
   "file_extension": ".py",
   "mimetype": "text/x-python",
   "name": "python",
   "nbconvert_exporter": "python",
   "pygments_lexer": "ipython3",
   "version": "3.7.3"
  }
 },
 "nbformat": 4,
 "nbformat_minor": 2
}
